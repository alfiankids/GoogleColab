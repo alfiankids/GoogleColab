{
  "nbformat": 4,
  "nbformat_minor": 0,
  "metadata": {
    "colab": {
      "name": "Youtubedl.ipynb",
      "provenance": [],
      "collapsed_sections": [],
      "include_colab_link": true
    },
    "kernelspec": {
      "name": "python3",
      "display_name": "Python 3"
    }
  },
  "cells": [
    {
      "cell_type": "markdown",
      "metadata": {
        "id": "view-in-github",
        "colab_type": "text"
      },
      "source": [
        "<a href=\"https://colab.research.google.com/github/aftabkh505/Ytplaylist/blob/master/Youtubedl.ipynb\" target=\"_parent\"><img src=\"https://colab.research.google.com/assets/colab-badge.svg\" alt=\"Open In Colab\"/></a>"
      ]
    },
    {
      "cell_type": "markdown",
      "metadata": {
        "id": "l1xZ3YTCc3hN",
        "colab_type": "text"
      },
      "source": [
        "# Google Drive Login"
      ]
    },
    {
      "cell_type": "code",
      "metadata": {
        "id": "Uo_Bd1WwFFOP",
        "colab_type": "code",
        "colab": {}
      },
      "source": [
        "from google.colab import drive\n",
        "drive.mount('/content/drive')"
      ],
      "execution_count": null,
      "outputs": []
    },
    {
      "cell_type": "markdown",
      "metadata": {
        "id": "BsN0qvw8dD8k",
        "colab_type": "text"
      },
      "source": [
        "# Install Ytdl"
      ]
    },
    {
      "cell_type": "code",
      "metadata": {
        "id": "7RBGT0nnZNzk",
        "colab_type": "code",
        "colab": {}
      },
      "source": [
        "!sudo curl -L https://yt-dl.org/downloads/latest/youtube-dl -o /usr/local/bin/youtube-dl"
      ],
      "execution_count": null,
      "outputs": []
    },
    {
      "cell_type": "code",
      "metadata": {
        "id": "m3l8wAQ_cF0J",
        "colab_type": "code",
        "colab": {}
      },
      "source": [
        "!sudo chmod a+rx /usr/local/bin/youtube-dl"
      ],
      "execution_count": null,
      "outputs": []
    },
    {
      "cell_type": "markdown",
      "metadata": {
        "id": "aFZeF9akdQ4-",
        "colab_type": "text"
      },
      "source": [
        "# change Your directory where You want to Download Your Playlist"
      ]
    },
    {
      "cell_type": "code",
      "metadata": {
        "id": "-p-0zQEdoKq4",
        "colab_type": "code",
        "colab": {}
      },
      "source": [
        "cd "
      ],
      "execution_count": null,
      "outputs": []
    },
    {
      "cell_type": "markdown",
      "metadata": {
        "id": "LDB0ICEpbi7Y",
        "colab_type": "text"
      },
      "source": [
        "# Download Youtube PlayList\n"
      ]
    },
    {
      "cell_type": "markdown",
      "metadata": {
        "id": "pXAi4Yl-br-4",
        "colab_type": "text"
      },
      "source": [
        "\n",
        "\n",
        "*   ID of Your Playlist From above example - **PLjwBf9QEIO979QpN8DZ_Q_E942KA_w27Q**\n",
        "\n",
        "\n",
        "\n",
        "\n",
        "---\n",
        "\n",
        "\n",
        "> For 480p Command Like this-\n",
        "***!youtube-dl -f 'bestvideo[height<=480]+bestaudio/best[height<=480]' -i \"yt playlist link or id\"***\n",
        "\n",
        "For quality Change Go to [YTDl Repo](https://github.com/ytdl-org/youtube-dl#format-selection) Format section\n",
        "\n",
        "\n"
      ]
    },
    {
      "cell_type": "code",
      "metadata": {
        "id": "a1XU7BG2cVuW",
        "colab_type": "code",
        "colab": {}
      },
      "source": [
        "!youtube-dl \"YTplaylist link or id\""
      ],
      "execution_count": null,
      "outputs": []
    }
  ]
}